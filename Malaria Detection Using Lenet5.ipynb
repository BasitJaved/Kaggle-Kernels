{
 "cells": [
  {
   "cell_type": "markdown",
   "metadata": {},
   "source": [
    "# Importing Libraries"
   ]
  },
  {
   "cell_type": "code",
   "execution_count": 1,
   "metadata": {},
   "outputs": [
    {
     "name": "stderr",
     "output_type": "stream",
     "text": [
      "Using TensorFlow backend.\n"
     ]
    }
   ],
   "source": [
    "import cv2\n",
    "import os\n",
    "import glob\n",
    "import numpy as np\n",
    "import matplotlib.pyplot as plt\n",
    "from sklearn.model_selection import train_test_split\n",
    "from keras.models import Sequential\n",
    "from keras.layers import Conv2D\n",
    "from keras.layers import AveragePooling2D\n",
    "from keras.layers import MaxPool2D\n",
    "from keras.layers import Flatten\n",
    "from keras.layers import Dense\n",
    "from keras.layers import Dropout\n",
    "import keras\n",
    "from PIL import Image"
   ]
  },
  {
   "cell_type": "markdown",
   "metadata": {},
   "source": [
    "### Importing Data, and Data Augmentation\n",
    "\n",
    "We first import data from two folders containing images of infected and healthy cells, then we reduce the pixcels to 32 x 32 x 3, then we do some data augumentation (image rotation and image blurring), then we create a list of labels for both healthy and infected cells and concatinates them, then we concatinate infected and healthy cell data into a single large data."
   ]
  },
  {
   "cell_type": "code",
   "execution_count": 2,
   "metadata": {},
   "outputs": [],
   "source": [
    "# Infected Cells\n",
    "infected = [cv2.imread(file) for file in glob.glob('input/P/*.png')]\n",
    "\n",
    "# Healthy Cells\n",
    "healthy = [cv2.imread(file) for file in glob.glob('input/U/*.png')]"
   ]
  },
  {
   "cell_type": "code",
   "execution_count": 3,
   "metadata": {},
   "outputs": [
    {
     "data": {
      "text/plain": [
       "(148, 142, 3)"
      ]
     },
     "execution_count": 3,
     "metadata": {},
     "output_type": "execute_result"
    }
   ],
   "source": [
    "infected[0].shape "
   ]
  },
  {
   "cell_type": "code",
   "execution_count": 4,
   "metadata": {},
   "outputs": [
    {
     "data": {
      "text/plain": [
       "13104"
      ]
     },
     "execution_count": 4,
     "metadata": {},
     "output_type": "execute_result"
    }
   ],
   "source": [
    "len(infected)"
   ]
  },
  {
   "cell_type": "code",
   "execution_count": 5,
   "metadata": {},
   "outputs": [
    {
     "data": {
      "text/plain": [
       "13082"
      ]
     },
     "execution_count": 5,
     "metadata": {},
     "output_type": "execute_result"
    }
   ],
   "source": [
    "len(healthy)"
   ]
  },
  {
   "cell_type": "code",
   "execution_count": 6,
   "metadata": {},
   "outputs": [
    {
     "data": {
      "text/plain": [
       "(139, 160, 3)"
      ]
     },
     "execution_count": 6,
     "metadata": {},
     "output_type": "execute_result"
    }
   ],
   "source": [
    "healthy[0].shape "
   ]
  },
  {
   "cell_type": "code",
   "execution_count": 7,
   "metadata": {},
   "outputs": [],
   "source": [
    "dim = (32, 32)\n",
    "infected = [cv2.resize(file, dim, interpolation = cv2.INTER_AREA) for file in infected] #reducing pixels to 32 x 32 x 3\n",
    "healthy = [cv2.resize(file, dim, interpolation = cv2.INTER_AREA) for file in healthy] #reducing pixels to 32 x 32 x 3"
   ]
  },
  {
   "cell_type": "code",
   "execution_count": 8,
   "metadata": {},
   "outputs": [],
   "source": [
    "def rotateImage(image, angle):      #function to rotate images\n",
    "    image_center = tuple(np.array(image.shape[1::-1]) / 2)\n",
    "    rot_mat = cv2.getRotationMatrix2D(image_center, angle, 1.0)\n",
    "    result = cv2.warpAffine(image, rot_mat, image.shape[1::-1], flags=cv2.INTER_LINEAR)\n",
    "    return result"
   ]
  },
  {
   "cell_type": "code",
   "execution_count": 9,
   "metadata": {},
   "outputs": [],
   "source": [
    "rotated45 = [rotateImage(file, 45) for file in infected]                 #rotating images 45 degrees\n",
    "rotated75 = [rotateImage(file, 75) for file in infected]                 #rotating images 75 degrees\n",
    "blurred = [cv2.GaussianBlur(file, (15, 15), 0) for file in infected]     #blurring images\n",
    "\n",
    "rotated45_healthy = [rotateImage(file, 45) for file in healthy]                 \n",
    "rotated75_healthy = [rotateImage(file, 75) for file in healthy]         \n",
    "blurred_healthy = [cv2.GaussianBlur(file, (15, 15), 0) for file in healthy]"
   ]
  },
  {
   "cell_type": "code",
   "execution_count": 10,
   "metadata": {},
   "outputs": [],
   "source": [
    "infected = np.concatenate((np.array(infected),np.array(rotated45)))\n",
    "infected = np.concatenate((np.array(infected),np.array(rotated75)))\n",
    "infected = np.concatenate((np.array(infected),np.array(blurred)))\n",
    "\n",
    "healthy = np.concatenate((np.array(healthy),np.array(rotated45_healthy)))\n",
    "healthy = np.concatenate((np.array(healthy),np.array(rotated75_healthy)))\n",
    "healthy = np.concatenate((np.array(healthy),np.array(blurred_healthy)))"
   ]
  },
  {
   "cell_type": "code",
   "execution_count": 11,
   "metadata": {},
   "outputs": [
    {
     "data": {
      "text/plain": [
       "(32, 32, 3)"
      ]
     },
     "execution_count": 11,
     "metadata": {},
     "output_type": "execute_result"
    }
   ],
   "source": [
    "infected[0].shape "
   ]
  },
  {
   "cell_type": "code",
   "execution_count": 12,
   "metadata": {},
   "outputs": [
    {
     "data": {
      "text/plain": [
       "(32, 32, 3)"
      ]
     },
     "execution_count": 12,
     "metadata": {},
     "output_type": "execute_result"
    }
   ],
   "source": [
    "healthy[0].shape "
   ]
  },
  {
   "cell_type": "code",
   "execution_count": 13,
   "metadata": {},
   "outputs": [
    {
     "data": {
      "text/plain": [
       "52416"
      ]
     },
     "execution_count": 13,
     "metadata": {},
     "output_type": "execute_result"
    }
   ],
   "source": [
    "len(infected)"
   ]
  },
  {
   "cell_type": "code",
   "execution_count": 14,
   "metadata": {},
   "outputs": [
    {
     "data": {
      "text/plain": [
       "52328"
      ]
     },
     "execution_count": 14,
     "metadata": {},
     "output_type": "execute_result"
    }
   ],
   "source": [
    "len(healthy)"
   ]
  },
  {
   "cell_type": "code",
   "execution_count": 15,
   "metadata": {},
   "outputs": [],
   "source": [
    "y_infected = np.ones(len(infected)) # labels for infected\n",
    "y_healthy = np.zeros(len(healthy))  # labels for uninfected\n",
    "y = np.concatenate((y_infected,y_healthy)) # Labels"
   ]
  },
  {
   "cell_type": "code",
   "execution_count": 16,
   "metadata": {},
   "outputs": [
    {
     "data": {
      "text/plain": [
       "104744"
      ]
     },
     "execution_count": 16,
     "metadata": {},
     "output_type": "execute_result"
    }
   ],
   "source": [
    "len(y)"
   ]
  },
  {
   "cell_type": "code",
   "execution_count": 17,
   "metadata": {},
   "outputs": [],
   "source": [
    "X = np.concatenate((np.array(infected),np.array(healthy)))"
   ]
  },
  {
   "cell_type": "code",
   "execution_count": 18,
   "metadata": {},
   "outputs": [
    {
     "data": {
      "text/plain": [
       "(32, 32, 3)"
      ]
     },
     "execution_count": 18,
     "metadata": {},
     "output_type": "execute_result"
    }
   ],
   "source": [
    "X[0].shape"
   ]
  },
  {
   "cell_type": "code",
   "execution_count": 19,
   "metadata": {},
   "outputs": [
    {
     "data": {
      "text/plain": [
       "104744"
      ]
     },
     "execution_count": 19,
     "metadata": {},
     "output_type": "execute_result"
    }
   ],
   "source": [
    "len(X)"
   ]
  },
  {
   "cell_type": "code",
   "execution_count": 20,
   "metadata": {},
   "outputs": [
    {
     "name": "stdout",
     "output_type": "stream",
     "text": [
      "1.0\n"
     ]
    },
    {
     "data": {
      "image/png": "[encoded data removed]",
      "text/plain": [
       "<Figure size 432x288 with 1 Axes>"
      ]
     },
     "metadata": {
      "needs_background": "light"
     },
     "output_type": "display_data"
    }
   ],
   "source": [
    "plt.imshow(X[13103])\n",
    "print(y[13103])"
   ]
  },
  {
   "cell_type": "code",
   "execution_count": 28,
   "metadata": {},
   "outputs": [
    {
     "name": "stdout",
     "output_type": "stream",
     "text": [
      "0.0\n"
     ]
    },
    {
     "data": {
      "image/png": "[encoded data removed]",
      "text/plain": [
       "<Figure size 432x288 with 1 Axes>"
      ]
     },
     "metadata": {
      "needs_background": "light"
     },
     "output_type": "display_data"
    }
   ],
   "source": [
    "plt.imshow(X[98000])\n",
    "print(y[98000])"
   ]
  },
  {
   "cell_type": "markdown",
   "metadata": {},
   "source": [
    "### Splitting Data into Training, Validation ad Test Sets\n",
    "\n",
    " We split this data along with labels into a training, test and validation set.\n",
    " \n",
    " "
   ]
  },
  {
   "cell_type": "code",
   "execution_count": 29,
   "metadata": {},
   "outputs": [],
   "source": [
    "X_train, X_1, Y_train, Y_1 = train_test_split(X, y, test_size = 0.1, shuffle = True)\n",
    "X_val, X_test, Y_val, Y_test = train_test_split(X_1, Y_1, test_size = 0.5, shuffle = True)"
   ]
  },
  {
   "cell_type": "code",
   "execution_count": 30,
   "metadata": {},
   "outputs": [
    {
     "data": {
      "text/plain": [
       "(94269, 32, 32, 3)"
      ]
     },
     "execution_count": 30,
     "metadata": {},
     "output_type": "execute_result"
    }
   ],
   "source": [
    "X_train.shape"
   ]
  },
  {
   "cell_type": "code",
   "execution_count": 31,
   "metadata": {},
   "outputs": [
    {
     "data": {
      "text/plain": [
       "(5237, 32, 32, 3)"
      ]
     },
     "execution_count": 31,
     "metadata": {},
     "output_type": "execute_result"
    }
   ],
   "source": [
    "X_val.shape"
   ]
  },
  {
   "cell_type": "code",
   "execution_count": 32,
   "metadata": {},
   "outputs": [
    {
     "data": {
      "text/plain": [
       "(94269,)"
      ]
     },
     "execution_count": 32,
     "metadata": {},
     "output_type": "execute_result"
    }
   ],
   "source": [
    "Y_train.shape"
   ]
  },
  {
   "cell_type": "code",
   "execution_count": 33,
   "metadata": {},
   "outputs": [
    {
     "data": {
      "text/plain": [
       "(5237,)"
      ]
     },
     "execution_count": 33,
     "metadata": {},
     "output_type": "execute_result"
    }
   ],
   "source": [
    "Y_val.shape"
   ]
  },
  {
   "cell_type": "markdown",
   "metadata": {},
   "source": [
    "### Model"
   ]
  },
  {
   "cell_type": "code",
   "execution_count": 34,
   "metadata": {},
   "outputs": [],
   "source": [
    "Batch_size = 256\n",
    "Num_epoch = 30"
   ]
  },
  {
   "cell_type": "code",
   "execution_count": 35,
   "metadata": {},
   "outputs": [],
   "source": [
    "def model():\n",
    "    model = Sequential()\n",
    "    \n",
    "    model.add(Conv2D(6, kernel_size = (3,3),  strides=(1, 1), activation = 'relu', input_shape = (32, 32, 3)))\n",
    "    model.add(MaxPool2D(pool_size=(2, 2), strides=(2, 2)))\n",
    "    \n",
    "    model.add(Conv2D(16, kernel_size = (3,3), strides=(1, 1), activation = 'relu'))\n",
    "    model.add(MaxPool2D (pool_size=(2, 2), strides=(2, 2)))\n",
    "    \n",
    "    model.add(Flatten())\n",
    "    \n",
    "    model.add(Dense(120, activation = 'relu'))\n",
    "    model.add(Dropout(0.25))\n",
    "    \n",
    "    model.add(Dense(84, activation = 'relu'))\n",
    "    model.add(Dropout(0.25))\n",
    "    \n",
    "    model.add(Dense(1, activation = 'sigmoid'))\n",
    "    \n",
    "    \n",
    "    return model"
   ]
  },
  {
   "cell_type": "code",
   "execution_count": 36,
   "metadata": {},
   "outputs": [
    {
     "name": "stdout",
     "output_type": "stream",
     "text": [
      "WARNING:tensorflow:From C:\\Anaconda\\lib\\site-packages\\tensorflow\\python\\framework\\op_def_library.py:263: colocate_with (from tensorflow.python.framework.ops) is deprecated and will be removed in a future version.\n",
      "Instructions for updating:\n",
      "Colocations handled automatically by placer.\n",
      "WARNING:tensorflow:From C:\\Anaconda\\lib\\site-packages\\keras\\backend\\tensorflow_backend.py:3445: calling dropout (from tensorflow.python.ops.nn_ops) with keep_prob is deprecated and will be removed in a future version.\n",
      "Instructions for updating:\n",
      "Please use `rate` instead of `keep_prob`. Rate should be set to `rate = 1 - keep_prob`.\n",
      "_________________________________________________________________\n",
      "Layer (type)                 Output Shape              Param #   \n",
      "=================================================================\n",
      "conv2d_1 (Conv2D)            (None, 30, 30, 6)         168       \n",
      "_________________________________________________________________\n",
      "max_pooling2d_1 (MaxPooling2 (None, 15, 15, 6)         0         \n",
      "_________________________________________________________________\n",
      "conv2d_2 (Conv2D)            (None, 13, 13, 16)        880       \n",
      "_________________________________________________________________\n",
      "max_pooling2d_2 (MaxPooling2 (None, 6, 6, 16)          0         \n",
      "_________________________________________________________________\n",
      "flatten_1 (Flatten)          (None, 576)               0         \n",
      "_________________________________________________________________\n",
      "dense_1 (Dense)              (None, 120)               69240     \n",
      "_________________________________________________________________\n",
      "dropout_1 (Dropout)          (None, 120)               0         \n",
      "_________________________________________________________________\n",
      "dense_2 (Dense)              (None, 84)                10164     \n",
      "_________________________________________________________________\n",
      "dropout_2 (Dropout)          (None, 84)                0         \n",
      "_________________________________________________________________\n",
      "dense_3 (Dense)              (None, 1)                 85        \n",
      "=================================================================\n",
      "Total params: 80,537\n",
      "Trainable params: 80,537\n",
      "Non-trainable params: 0\n",
      "_________________________________________________________________\n"
     ]
    }
   ],
   "source": [
    "model = model()\n",
    "model.compile(loss=keras.losses.binary_crossentropy, optimizer = keras.optimizers.Adam(), metrics = ['accuracy'])\n",
    "model.summary()"
   ]
  },
  {
   "cell_type": "code",
   "execution_count": 37,
   "metadata": {},
   "outputs": [
    {
     "name": "stdout",
     "output_type": "stream",
     "text": [
      "WARNING:tensorflow:From C:\\Anaconda\\lib\\site-packages\\tensorflow\\python\\ops\\math_ops.py:3066: to_int32 (from tensorflow.python.ops.math_ops) is deprecated and will be removed in a future version.\n",
      "Instructions for updating:\n",
      "Use tf.cast instead.\n",
      "Train on 94269 samples, validate on 5237 samples\n",
      "Epoch 1/30\n",
      "94269/94269 [==============================] - 62s 660us/step - loss: 1.9201 - acc: 0.6712 - val_loss: 0.4001 - val_acc: 0.8220\n",
      "Epoch 2/30\n",
      "94269/94269 [==============================] - 61s 652us/step - loss: 0.3321 - acc: 0.8577 - val_loss: 0.2860 - val_acc: 0.8856\n",
      "Epoch 3/30\n",
      "94269/94269 [==============================] - 62s 657us/step - loss: 0.2388 - acc: 0.9116 - val_loss: 0.2210 - val_acc: 0.9208\n",
      "Epoch 4/30\n",
      "94269/94269 [==============================] - 62s 658us/step - loss: 0.1999 - acc: 0.9289 - val_loss: 0.2067 - val_acc: 0.9316\n",
      "Epoch 5/30\n",
      "94269/94269 [==============================] - 62s 655us/step - loss: 0.1837 - acc: 0.9347 - val_loss: 0.1946 - val_acc: 0.9345\n",
      "Epoch 6/30\n",
      "94269/94269 [==============================] - 62s 656us/step - loss: 0.1722 - acc: 0.9390 - val_loss: 0.1887 - val_acc: 0.9391\n",
      "Epoch 7/30\n",
      "94269/94269 [==============================] - 62s 654us/step - loss: 0.1648 - acc: 0.9416 - val_loss: 0.1849 - val_acc: 0.9389\n",
      "Epoch 8/30\n",
      "94269/94269 [==============================] - 62s 656us/step - loss: 0.1575 - acc: 0.9439 - val_loss: 0.1805 - val_acc: 0.9378\n",
      "Epoch 9/30\n",
      "94269/94269 [==============================] - 62s 656us/step - loss: 0.1513 - acc: 0.9462 - val_loss: 0.1754 - val_acc: 0.9408\n",
      "Epoch 10/30\n",
      "94269/94269 [==============================] - 62s 655us/step - loss: 0.1461 - acc: 0.9482 - val_loss: 0.1816 - val_acc: 0.9404\n",
      "Epoch 11/30\n",
      "94269/94269 [==============================] - 62s 655us/step - loss: 0.1420 - acc: 0.9495 - val_loss: 0.1704 - val_acc: 0.9412\n",
      "Epoch 12/30\n",
      "94269/94269 [==============================] - 62s 653us/step - loss: 0.1390 - acc: 0.9506 - val_loss: 0.1784 - val_acc: 0.9441\n",
      "Epoch 13/30\n",
      "94269/94269 [==============================] - 62s 655us/step - loss: 0.1357 - acc: 0.9518 - val_loss: 0.1688 - val_acc: 0.9404\n",
      "Epoch 14/30\n",
      "94269/94269 [==============================] - 62s 656us/step - loss: 0.1335 - acc: 0.9530 - val_loss: 0.1725 - val_acc: 0.9414\n",
      "Epoch 15/30\n",
      "94269/94269 [==============================] - 62s 654us/step - loss: 0.1273 - acc: 0.9550 - val_loss: 0.1753 - val_acc: 0.9433\n",
      "Epoch 16/30\n",
      "94269/94269 [==============================] - 62s 655us/step - loss: 0.1252 - acc: 0.9557 - val_loss: 0.1703 - val_acc: 0.9433\n",
      "Epoch 17/30\n",
      "94269/94269 [==============================] - 62s 654us/step - loss: 0.1226 - acc: 0.9564 - val_loss: 0.1820 - val_acc: 0.9420\n",
      "Epoch 18/30\n",
      "94269/94269 [==============================] - 61s 652us/step - loss: 0.1205 - acc: 0.9575 - val_loss: 0.1821 - val_acc: 0.9437\n",
      "Epoch 19/30\n",
      "94269/94269 [==============================] - 60s 640us/step - loss: 0.1182 - acc: 0.9582 - val_loss: 0.1855 - val_acc: 0.9469\n",
      "Epoch 20/30\n",
      "94269/94269 [==============================] - 62s 655us/step - loss: 0.1117 - acc: 0.9608 - val_loss: 0.1787 - val_acc: 0.9442\n",
      "Epoch 21/30\n",
      "94269/94269 [==============================] - 62s 656us/step - loss: 0.1098 - acc: 0.9613 - val_loss: 0.1964 - val_acc: 0.9408\n",
      "Epoch 22/30\n",
      "94269/94269 [==============================] - 62s 655us/step - loss: 0.1114 - acc: 0.9608 - val_loss: 0.2007 - val_acc: 0.9427\n",
      "Epoch 23/30\n",
      "94269/94269 [==============================] - 62s 655us/step - loss: 0.1075 - acc: 0.9623 - val_loss: 0.1929 - val_acc: 0.9439\n",
      "Epoch 24/30\n",
      "94269/94269 [==============================] - 62s 654us/step - loss: 0.1036 - acc: 0.9629 - val_loss: 0.1899 - val_acc: 0.9425\n",
      "Epoch 25/30\n",
      "94269/94269 [==============================] - 62s 655us/step - loss: 0.1032 - acc: 0.9640 - val_loss: 0.1948 - val_acc: 0.9448\n",
      "Epoch 26/30\n",
      "94269/94269 [==============================] - 61s 650us/step - loss: 0.1020 - acc: 0.9641 - val_loss: 0.1822 - val_acc: 0.9435\n",
      "Epoch 27/30\n",
      "94269/94269 [==============================] - 62s 655us/step - loss: 0.1026 - acc: 0.9633 - val_loss: 0.1901 - val_acc: 0.9439\n",
      "Epoch 28/30\n",
      "94269/94269 [==============================] - 62s 653us/step - loss: 0.0983 - acc: 0.9660 - val_loss: 0.1997 - val_acc: 0.9420\n",
      "Epoch 29/30\n",
      "94269/94269 [==============================] - 61s 652us/step - loss: 0.0960 - acc: 0.9661 - val_loss: 0.1864 - val_acc: 0.9479\n",
      "Epoch 30/30\n",
      "94269/94269 [==============================] - 62s 653us/step - loss: 0.0929 - acc: 0.9680 - val_loss: 0.1964 - val_acc: 0.9448\n"
     ]
    }
   ],
   "source": [
    "model_train = model.fit(X_train, Y_train, validation_data= (X_val, Y_val), batch_size= Batch_size, epochs= Num_epoch, verbose=1)"
   ]
  },
  {
   "cell_type": "markdown",
   "metadata": {},
   "source": [
    "### Testing on Test Data"
   ]
  },
  {
   "cell_type": "code",
   "execution_count": 40,
   "metadata": {},
   "outputs": [
    {
     "name": "stdout",
     "output_type": "stream",
     "text": [
      "5238/5238 [==============================] - 2s 289us/step\n",
      "\n",
      " Test_Accuracy:- 0.9402443681932123\n"
     ]
    }
   ],
   "source": [
    "\n",
    "X_loss, accuracy = model.evaluate(X_test,Y_test)\n",
    "print('\\n', 'Test_Accuracy:-', accuracy)"
   ]
  },
  {
   "cell_type": "code",
   "execution_count": 41,
   "metadata": {},
   "outputs": [],
   "source": [
    "Y_pred = model.predict(X_test)"
   ]
  },
  {
   "cell_type": "code",
   "execution_count": 73,
   "metadata": {},
   "outputs": [
    {
     "data": {
      "text/plain": [
       "1.0"
      ]
     },
     "execution_count": 73,
     "metadata": {},
     "output_type": "execute_result"
    }
   ],
   "source": [
    "for i in range(len(Y_pred)):\n",
    "    if (Y_pred[i]<0.5):\n",
    "        Y_pred[i] = 0\n",
    "    else:\n",
    "        Y_pred[i] = 1\n",
    "Y_pred[500][0]"
   ]
  },
  {
   "cell_type": "code",
   "execution_count": 47,
   "metadata": {},
   "outputs": [
    {
     "name": "stdout",
     "output_type": "stream",
     "text": [
      "[[2541  150]\n",
      " [ 163 2384]]\n"
     ]
    }
   ],
   "source": [
    "from sklearn.metrics import confusion_matrix\n",
    "print(confusion_matrix(Y_test , Y_pred))"
   ]
  },
  {
   "cell_type": "markdown",
   "metadata": {},
   "source": [
    "### Training and Validation Curves"
   ]
  },
  {
   "cell_type": "code",
   "execution_count": 49,
   "metadata": {},
   "outputs": [
    {
     "data": {
      "image/png": "[encoded data removed]",
      "text/plain": [
       "<Figure size 432x288 with 1 Axes>"
      ]
     },
     "metadata": {
      "needs_background": "light"
     },
     "output_type": "display_data"
    }
   ],
   "source": [
    "def show_accuracy_vs_epoch(model):\n",
    "    xlabel= 'Epoch'\n",
    "    legends = ['Training', 'Validation']\n",
    "    plt.xlabel(xlabel, fontsize = 10)\n",
    "    plt.ylabel('Accuracy', fontsize = 10)\n",
    "    title = 'Model with Data Augmentation'\n",
    "    plt.title(title)\n",
    "    plt.plot(model_train.history['acc'])\n",
    "    plt.plot(model_train.history['val_acc'])\n",
    "    plt.legend(legends, loc = 'lower right')\n",
    "show_accuracy_vs_epoch(model_train)"
   ]
  },
  {
   "cell_type": "code",
   "execution_count": 74,
   "metadata": {},
   "outputs": [],
   "source": [
    "errors = []\n",
    "\n",
    "for i in range(len(Y_pred)):\n",
    "    if (Y_pred[i][0] != Y_test[i]):\n",
    "        errors.append([i, Y_pred[i][0]])"
   ]
  },
  {
   "cell_type": "code",
   "execution_count": 82,
   "metadata": {},
   "outputs": [
    {
     "data": {
      "text/plain": [
       "[116, 0.0]"
      ]
     },
     "execution_count": 82,
     "metadata": {},
     "output_type": "execute_result"
    }
   ],
   "source": [
    "errors[6]"
   ]
  },
  {
   "cell_type": "code",
   "execution_count": 83,
   "metadata": {},
   "outputs": [
    {
     "data": {
      "text/plain": [
       "1.0"
      ]
     },
     "execution_count": 83,
     "metadata": {},
     "output_type": "execute_result"
    }
   ],
   "source": [
    "Y_test[116]"
   ]
  },
  {
   "cell_type": "code",
   "execution_count": 84,
   "metadata": {},
   "outputs": [
    {
     "data": {
      "text/plain": [
       "array([0.], dtype=float32)"
      ]
     },
     "execution_count": 84,
     "metadata": {},
     "output_type": "execute_result"
    }
   ],
   "source": [
    "Y_pred[116]"
   ]
  },
  {
   "cell_type": "code",
   "execution_count": 99,
   "metadata": {},
   "outputs": [],
   "source": [
    "def errors_images(errors_ind):\n",
    "    '''Show images with their predicted and real labels'''\n",
    "    n = 0\n",
    "    rows = 3\n",
    "    cols = 3\n",
    "    fig, ax = plt.subplots(rows, cols, figsize = (10, 10))\n",
    "    \n",
    "    for row in range(rows):\n",
    "        for col in range(cols):\n",
    "            index = errors_ind[n][0]\n",
    "            pred = errors_ind[n][1]\n",
    "            img = X_val[index]\n",
    "            ax[row, col].imshow(img)\n",
    "            ax[row, col].set_title('True:{} pred:{}'.format(Y_test[index], pred))\n",
    "            n = n+1"
   ]
  },
  {
   "cell_type": "code",
   "execution_count": 102,
   "metadata": {},
   "outputs": [
    {
     "data": {
      "image/png": "[encoded data removed]",
      "text/plain": [
       "<Figure size 720x720 with 9 Axes>"
      ]
     },
     "metadata": {
      "needs_background": "light"
     },
     "output_type": "display_data"
    }
   ],
   "source": [
    "errors_images(errors[0:])"
   ]
  },
  {
   "cell_type": "code",
   "execution_count": null,
   "metadata": {},
   "outputs": [],
   "source": []
  }
 ],
 "metadata": {
  "kernelspec": {
   "display_name": "Python 3",
   "language": "python",
   "name": "python3"
  },
  "language_info": {
   "codemirror_mode": {
    "name": "ipython",
    "version": 3
   },
   "file_extension": ".py",
   "mimetype": "text/x-python",
   "name": "python",
   "nbconvert_exporter": "python",
   "pygments_lexer": "ipython3",
   "version": "3.7.1"
  }
 },
 "nbformat": 4,
 "nbformat_minor": 2
}
